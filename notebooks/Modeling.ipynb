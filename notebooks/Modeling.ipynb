{
 "cells": [
  {
   "cell_type": "markdown",
   "id": "43debe34",
   "metadata": {},
   "source": [
    "## Data Preparation"
   ]
  },
  {
   "cell_type": "code",
   "execution_count": 153,
   "id": "dd7e664c",
   "metadata": {},
   "outputs": [
    {
     "name": "stdout",
     "output_type": "stream",
     "text": [
      "Name: scikit-learn\r\n",
      "Version: 1.3.2\r\n",
      "Summary: A set of python modules for machine learning and data mining\r\n",
      "Home-page: http://scikit-learn.org\r\n",
      "Author: \r\n",
      "Author-email: \r\n",
      "License: new BSD\r\n",
      "Location: /home/ronny/Escritorio/intro-deployment-ml/venv/lib/python3.10/site-packages\r\n",
      "Requires: joblib, numpy, scipy, threadpoolctl\r\n",
      "Required-by: \r\n"
     ]
    }
   ],
   "source": [
    "!pip show scikit-learn"
   ]
  },
  {
   "cell_type": "code",
   "execution_count": 122,
   "id": "a042497d",
   "metadata": {},
   "outputs": [],
   "source": [
    "import pandas as pd\n",
    "import sys\n",
    "sys.path.append('/home/ronny/Escritorio/intro-deployment-ml/venv/lib/python3.10/site-packages')"
   ]
  },
  {
   "cell_type": "code",
   "execution_count": 123,
   "id": "aeb45838",
   "metadata": {},
   "outputs": [],
   "source": [
    "movies_data_path = '../dataset/movies.csv'\n",
    "finantial_data_path = '../dataset/finantials.csv'\n",
    "opening_data_path = '../dataset/opening_gross.csv'"
   ]
  },
  {
   "cell_type": "code",
   "execution_count": 124,
   "id": "31c3b9ad",
   "metadata": {},
   "outputs": [],
   "source": [
    "fin_data = pd.read_csv(finantial_data_path)\n",
    "movie_data = pd.read_csv(movies_data_path)\n",
    "opening_data = pd.read_csv(opening_data_path)"
   ]
  },
  {
   "cell_type": "code",
   "execution_count": 125,
   "id": "0811c8b6",
   "metadata": {},
   "outputs": [],
   "source": [
    "numeric_columns_mask = (movie_data.dtypes == float) | (movie_data.dtypes == int)\n",
    "numeric_columns = [column for column in numeric_columns_mask.index if numeric_columns_mask[column]]\n",
    "movie_data = movie_data[numeric_columns+['movie_title']]"
   ]
  },
  {
   "cell_type": "code",
   "execution_count": 126,
   "id": "697ea2e2",
   "metadata": {},
   "outputs": [],
   "source": [
    "fin_data = fin_data[['movie_title','production_budget','worldwide_gross']]"
   ]
  },
  {
   "cell_type": "code",
   "execution_count": 127,
   "id": "ec9d0adc",
   "metadata": {},
   "outputs": [],
   "source": [
    "fin_movie_data = pd.merge(fin_data, movie_data, on= 'movie_title', how='left')"
   ]
  },
  {
   "cell_type": "code",
   "execution_count": 128,
   "id": "6ca13e79",
   "metadata": {},
   "outputs": [],
   "source": [
    "full_movie_data = pd.merge( opening_data,fin_movie_data, on = 'movie_title', how='left')"
   ]
  },
  {
   "cell_type": "code",
   "execution_count": 129,
   "id": "c372e153",
   "metadata": {},
   "outputs": [
    {
     "data": {
      "text/plain": [
       "(2304, 12)"
      ]
     },
     "execution_count": 129,
     "metadata": {},
     "output_type": "execute_result"
    }
   ],
   "source": [
    "full_movie_data[(full_movie_data.worldwide_gross != 0) & (full_movie_data.worldwide_gross.notnull())].shape"
   ]
  },
  {
   "cell_type": "code",
   "execution_count": 130,
   "id": "dbd03bcb",
   "metadata": {
    "scrolled": true
   },
   "outputs": [],
   "source": [
    "full_movie_data = full_movie_data.drop(['movie_title','gross'],axis=1)"
   ]
  },
  {
   "cell_type": "code",
   "execution_count": 131,
   "id": "68311214",
   "metadata": {},
   "outputs": [
    {
     "data": {
      "text/plain": [
       "Index(['opening_gross', 'screens', 'production_budget', 'worldwide_gross',\n",
       "       'title_year', 'aspect_ratio', 'duration', 'cast_total_facebook_likes',\n",
       "       'budget', 'imdb_score'],\n",
       "      dtype='object')"
      ]
     },
     "execution_count": 131,
     "metadata": {},
     "output_type": "execute_result"
    }
   ],
   "source": [
    "full_movie_data.columns"
   ]
  },
  {
   "cell_type": "markdown",
   "id": "3d855446",
   "metadata": {},
   "source": [
    "## Modeling"
   ]
  },
  {
   "cell_type": "code",
   "execution_count": 132,
   "id": "f9699a87",
   "metadata": {},
   "outputs": [],
   "source": [
    "\n",
    "from sklearn.model_selection import train_test_split\n",
    "from sklearn.pipeline import Pipeline\n",
    "from sklearn.impute import SimpleImputer\n",
    "from sklearn.ensemble import GradientBoostingRegressor\n",
    "from sklearn.model_selection import cross_validate\n",
    "import numpy as np"
   ]
  },
  {
   "cell_type": "code",
   "execution_count": 133,
   "id": "d6827e1b",
   "metadata": {},
   "outputs": [],
   "source": [
    "X = full_movie_data.drop(['worldwide_gross'], axis = 1)\n",
    "y = full_movie_data['worldwide_gross']"
   ]
  },
  {
   "cell_type": "code",
   "execution_count": 134,
   "id": "f943a690",
   "metadata": {},
   "outputs": [],
   "source": [
    "pipeline = Pipeline([\n",
    "    ('imputer', SimpleImputer(missing_values=np.nan, strategy='mean')),\n",
    "    ('core_model', GradientBoostingRegressor())\n",
    "])"
   ]
  },
  {
   "cell_type": "code",
   "execution_count": 135,
   "id": "cca7ef92",
   "metadata": {},
   "outputs": [
    {
     "data": {
      "text/plain": [
       "{'fit_time': array([0.26632333, 0.2641542 , 0.26443434, 0.26393914, 0.26431966,\n",
       "        0.26584244, 0.26513124, 0.26500726, 0.26502657, 0.26618671]),\n",
       " 'score_time': array([0.00167274, 0.00160503, 0.00164652, 0.00159645, 0.00161719,\n",
       "        0.00161982, 0.00173473, 0.00170732, 0.00165701, 0.00162029]),\n",
       " 'test_score': array([0.67457421, 0.85188516, 0.64418594, 0.77566252, 0.7847659 ,\n",
       "        0.86917928, 0.74757113, 0.86816261, 0.67376966, 0.65732363]),\n",
       " 'train_score': array([0.91673951, 0.91581777, 0.9228721 , 0.91654412, 0.92172829,\n",
       "        0.91476722, 0.92151444, 0.91734995, 0.92320705, 0.91766026])}"
      ]
     },
     "execution_count": 135,
     "metadata": {},
     "output_type": "execute_result"
    }
   ],
   "source": [
    "results = cross_validate(pipeline ,X,y,return_train_score=True,cv=10)\n",
    "results"
   ]
  },
  {
   "cell_type": "code",
   "execution_count": 136,
   "id": "fbde089f",
   "metadata": {},
   "outputs": [
    {
     "name": "stdout",
     "output_type": "stream",
     "text": [
      "Train Score: 0.918820072167686\n",
      "Test Score: 0.754708003981535\n"
     ]
    }
   ],
   "source": [
    "train_score = np.mean(results['train_score'])\n",
    "test_score = np.mean(results['test_score'])\n",
    "assert train_score > 0.7\n",
    "assert test_score > 0.65\n",
    "print(f'Train Score: {train_score}')\n",
    "print(f'Test Score: {test_score}')"
   ]
  },
  {
   "cell_type": "markdown",
   "id": "2d780543",
   "metadata": {},
   "source": [
    "## Hyperparameter tunning"
   ]
  },
  {
   "cell_type": "code",
   "execution_count": 137,
   "id": "5827e6f5",
   "metadata": {},
   "outputs": [],
   "source": [
    "from sklearn.model_selection import GridSearchCV"
   ]
  },
  {
   "cell_type": "code",
   "execution_count": 138,
   "id": "da68e0fc",
   "metadata": {},
   "outputs": [],
   "source": [
    "param_tunning = {'core_model__n_estimators': range(20,501,20)} "
   ]
  },
  {
   "cell_type": "code",
   "execution_count": 139,
   "id": "193f0cd6",
   "metadata": {},
   "outputs": [],
   "source": [
    "estimator = Pipeline([\n",
    "    ('imputer', SimpleImputer(missing_values=np.nan, strategy='mean')),\n",
    "    ('core_model', GradientBoostingRegressor())\n",
    "])"
   ]
  },
  {
   "cell_type": "code",
   "execution_count": 140,
   "id": "b2e5d303",
   "metadata": {},
   "outputs": [],
   "source": [
    "grid_search= GridSearchCV(estimator,\n",
    "                       param_grid = param_tunning,\n",
    "                       scoring='r2',\n",
    "                       cv=5) "
   ]
  },
  {
   "cell_type": "code",
   "execution_count": 141,
   "id": "ba418e6f",
   "metadata": {},
   "outputs": [],
   "source": [
    "X_train, X_test, y_train, y_test = train_test_split(X,y, test_size = 0.35,random_state= 42)"
   ]
  },
  {
   "cell_type": "code",
   "execution_count": 142,
   "id": "95368333",
   "metadata": {},
   "outputs": [
    {
     "data": {
      "text/html": [
       "<style>#sk-container-id-9 {color: black;}#sk-container-id-9 pre{padding: 0;}#sk-container-id-9 div.sk-toggleable {background-color: white;}#sk-container-id-9 label.sk-toggleable__label {cursor: pointer;display: block;width: 100%;margin-bottom: 0;padding: 0.3em;box-sizing: border-box;text-align: center;}#sk-container-id-9 label.sk-toggleable__label-arrow:before {content: \"▸\";float: left;margin-right: 0.25em;color: #696969;}#sk-container-id-9 label.sk-toggleable__label-arrow:hover:before {color: black;}#sk-container-id-9 div.sk-estimator:hover label.sk-toggleable__label-arrow:before {color: black;}#sk-container-id-9 div.sk-toggleable__content {max-height: 0;max-width: 0;overflow: hidden;text-align: left;background-color: #f0f8ff;}#sk-container-id-9 div.sk-toggleable__content pre {margin: 0.2em;color: black;border-radius: 0.25em;background-color: #f0f8ff;}#sk-container-id-9 input.sk-toggleable__control:checked~div.sk-toggleable__content {max-height: 200px;max-width: 100%;overflow: auto;}#sk-container-id-9 input.sk-toggleable__control:checked~label.sk-toggleable__label-arrow:before {content: \"▾\";}#sk-container-id-9 div.sk-estimator input.sk-toggleable__control:checked~label.sk-toggleable__label {background-color: #d4ebff;}#sk-container-id-9 div.sk-label input.sk-toggleable__control:checked~label.sk-toggleable__label {background-color: #d4ebff;}#sk-container-id-9 input.sk-hidden--visually {border: 0;clip: rect(1px 1px 1px 1px);clip: rect(1px, 1px, 1px, 1px);height: 1px;margin: -1px;overflow: hidden;padding: 0;position: absolute;width: 1px;}#sk-container-id-9 div.sk-estimator {font-family: monospace;background-color: #f0f8ff;border: 1px dotted black;border-radius: 0.25em;box-sizing: border-box;margin-bottom: 0.5em;}#sk-container-id-9 div.sk-estimator:hover {background-color: #d4ebff;}#sk-container-id-9 div.sk-parallel-item::after {content: \"\";width: 100%;border-bottom: 1px solid gray;flex-grow: 1;}#sk-container-id-9 div.sk-label:hover label.sk-toggleable__label {background-color: #d4ebff;}#sk-container-id-9 div.sk-serial::before {content: \"\";position: absolute;border-left: 1px solid gray;box-sizing: border-box;top: 0;bottom: 0;left: 50%;z-index: 0;}#sk-container-id-9 div.sk-serial {display: flex;flex-direction: column;align-items: center;background-color: white;padding-right: 0.2em;padding-left: 0.2em;position: relative;}#sk-container-id-9 div.sk-item {position: relative;z-index: 1;}#sk-container-id-9 div.sk-parallel {display: flex;align-items: stretch;justify-content: center;background-color: white;position: relative;}#sk-container-id-9 div.sk-item::before, #sk-container-id-9 div.sk-parallel-item::before {content: \"\";position: absolute;border-left: 1px solid gray;box-sizing: border-box;top: 0;bottom: 0;left: 50%;z-index: -1;}#sk-container-id-9 div.sk-parallel-item {display: flex;flex-direction: column;z-index: 1;position: relative;background-color: white;}#sk-container-id-9 div.sk-parallel-item:first-child::after {align-self: flex-end;width: 50%;}#sk-container-id-9 div.sk-parallel-item:last-child::after {align-self: flex-start;width: 50%;}#sk-container-id-9 div.sk-parallel-item:only-child::after {width: 0;}#sk-container-id-9 div.sk-dashed-wrapped {border: 1px dashed gray;margin: 0 0.4em 0.5em 0.4em;box-sizing: border-box;padding-bottom: 0.4em;background-color: white;}#sk-container-id-9 div.sk-label label {font-family: monospace;font-weight: bold;display: inline-block;line-height: 1.2em;}#sk-container-id-9 div.sk-label-container {text-align: center;}#sk-container-id-9 div.sk-container {/* jupyter's `normalize.less` sets `[hidden] { display: none; }` but bootstrap.min.css set `[hidden] { display: none !important; }` so we also need the `!important` here to be able to override the default hidden behavior on the sphinx rendered scikit-learn.org. See: https://github.com/scikit-learn/scikit-learn/issues/21755 */display: inline-block !important;position: relative;}#sk-container-id-9 div.sk-text-repr-fallback {display: none;}</style><div id=\"sk-container-id-9\" class=\"sk-top-container\"><div class=\"sk-text-repr-fallback\"><pre>GridSearchCV(cv=5,\n",
       "             estimator=Pipeline(steps=[(&#x27;imputer&#x27;, SimpleImputer()),\n",
       "                                       (&#x27;core_model&#x27;,\n",
       "                                        GradientBoostingRegressor())]),\n",
       "             param_grid={&#x27;core_model__n_estimators&#x27;: range(20, 501, 20)},\n",
       "             scoring=&#x27;r2&#x27;)</pre><b>In a Jupyter environment, please rerun this cell to show the HTML representation or trust the notebook. <br />On GitHub, the HTML representation is unable to render, please try loading this page with nbviewer.org.</b></div><div class=\"sk-container\" hidden><div class=\"sk-item sk-dashed-wrapped\"><div class=\"sk-label-container\"><div class=\"sk-label sk-toggleable\"><input class=\"sk-toggleable__control sk-hidden--visually\" id=\"sk-estimator-id-29\" type=\"checkbox\" ><label for=\"sk-estimator-id-29\" class=\"sk-toggleable__label sk-toggleable__label-arrow\">GridSearchCV</label><div class=\"sk-toggleable__content\"><pre>GridSearchCV(cv=5,\n",
       "             estimator=Pipeline(steps=[(&#x27;imputer&#x27;, SimpleImputer()),\n",
       "                                       (&#x27;core_model&#x27;,\n",
       "                                        GradientBoostingRegressor())]),\n",
       "             param_grid={&#x27;core_model__n_estimators&#x27;: range(20, 501, 20)},\n",
       "             scoring=&#x27;r2&#x27;)</pre></div></div></div><div class=\"sk-parallel\"><div class=\"sk-parallel-item\"><div class=\"sk-item\"><div class=\"sk-label-container\"><div class=\"sk-label sk-toggleable\"><input class=\"sk-toggleable__control sk-hidden--visually\" id=\"sk-estimator-id-30\" type=\"checkbox\" ><label for=\"sk-estimator-id-30\" class=\"sk-toggleable__label sk-toggleable__label-arrow\">estimator: Pipeline</label><div class=\"sk-toggleable__content\"><pre>Pipeline(steps=[(&#x27;imputer&#x27;, SimpleImputer()),\n",
       "                (&#x27;core_model&#x27;, GradientBoostingRegressor())])</pre></div></div></div><div class=\"sk-serial\"><div class=\"sk-item\"><div class=\"sk-serial\"><div class=\"sk-item\"><div class=\"sk-estimator sk-toggleable\"><input class=\"sk-toggleable__control sk-hidden--visually\" id=\"sk-estimator-id-31\" type=\"checkbox\" ><label for=\"sk-estimator-id-31\" class=\"sk-toggleable__label sk-toggleable__label-arrow\">SimpleImputer</label><div class=\"sk-toggleable__content\"><pre>SimpleImputer()</pre></div></div></div><div class=\"sk-item\"><div class=\"sk-estimator sk-toggleable\"><input class=\"sk-toggleable__control sk-hidden--visually\" id=\"sk-estimator-id-32\" type=\"checkbox\" ><label for=\"sk-estimator-id-32\" class=\"sk-toggleable__label sk-toggleable__label-arrow\">GradientBoostingRegressor</label><div class=\"sk-toggleable__content\"><pre>GradientBoostingRegressor()</pre></div></div></div></div></div></div></div></div></div></div></div></div>"
      ],
      "text/plain": [
       "GridSearchCV(cv=5,\n",
       "             estimator=Pipeline(steps=[('imputer', SimpleImputer()),\n",
       "                                       ('core_model',\n",
       "                                        GradientBoostingRegressor())]),\n",
       "             param_grid={'core_model__n_estimators': range(20, 501, 20)},\n",
       "             scoring='r2')"
      ]
     },
     "execution_count": 142,
     "metadata": {},
     "output_type": "execute_result"
    }
   ],
   "source": [
    "grid_search.fit(X_train, y_train)"
   ]
  },
  {
   "cell_type": "code",
   "execution_count": 143,
   "id": "f03a1dac",
   "metadata": {},
   "outputs": [],
   "source": [
    "final_result = cross_validate(grid_search.best_estimator_,X_train,y_train,return_train_score=True,cv=7)"
   ]
  },
  {
   "cell_type": "code",
   "execution_count": 144,
   "id": "461f63dd",
   "metadata": {},
   "outputs": [
    {
     "name": "stdout",
     "output_type": "stream",
     "text": [
      "Train Score: 0.9754592947818796\n",
      "Test Score: 0.7632023017734129\n"
     ]
    }
   ],
   "source": [
    "train_score = np.mean(final_result['train_score'])\n",
    "test_score = np.mean(final_result['test_score'])\n",
    "assert train_score > 0.7\n",
    "assert test_score > 0.65\n",
    "print(f'Train Score: {train_score}')\n",
    "print(f'Test Score: {test_score}')"
   ]
  },
  {
   "cell_type": "code",
   "execution_count": 145,
   "id": "8c669f7d",
   "metadata": {
    "scrolled": false
   },
   "outputs": [
    {
     "data": {
      "text/plain": [
       "{'memory': None,\n",
       " 'steps': [('imputer', SimpleImputer()),\n",
       "  ('core_model', GradientBoostingRegressor(n_estimators=300))],\n",
       " 'verbose': False,\n",
       " 'imputer': SimpleImputer(),\n",
       " 'core_model': GradientBoostingRegressor(n_estimators=300),\n",
       " 'imputer__add_indicator': False,\n",
       " 'imputer__copy': True,\n",
       " 'imputer__fill_value': None,\n",
       " 'imputer__keep_empty_features': False,\n",
       " 'imputer__missing_values': nan,\n",
       " 'imputer__strategy': 'mean',\n",
       " 'core_model__alpha': 0.9,\n",
       " 'core_model__ccp_alpha': 0.0,\n",
       " 'core_model__criterion': 'friedman_mse',\n",
       " 'core_model__init': None,\n",
       " 'core_model__learning_rate': 0.1,\n",
       " 'core_model__loss': 'squared_error',\n",
       " 'core_model__max_depth': 3,\n",
       " 'core_model__max_features': None,\n",
       " 'core_model__max_leaf_nodes': None,\n",
       " 'core_model__min_impurity_decrease': 0.0,\n",
       " 'core_model__min_samples_leaf': 1,\n",
       " 'core_model__min_samples_split': 2,\n",
       " 'core_model__min_weight_fraction_leaf': 0.0,\n",
       " 'core_model__n_estimators': 300,\n",
       " 'core_model__n_iter_no_change': None,\n",
       " 'core_model__random_state': None,\n",
       " 'core_model__subsample': 1.0,\n",
       " 'core_model__tol': 0.0001,\n",
       " 'core_model__validation_fraction': 0.1,\n",
       " 'core_model__verbose': 0,\n",
       " 'core_model__warm_start': False}"
      ]
     },
     "execution_count": 145,
     "metadata": {},
     "output_type": "execute_result"
    }
   ],
   "source": [
    "grid_search.best_estimator_.get_params()"
   ]
  },
  {
   "cell_type": "code",
   "execution_count": 146,
   "id": "6d479277",
   "metadata": {},
   "outputs": [],
   "source": [
    "estimator = Pipeline([\n",
    "    ('imputer', SimpleImputer(missing_values=np.nan, strategy='mean')),\n",
    "    ('core_model', GradientBoostingRegressor(n_estimators=220,\n",
    "                                             alpha=0.9,\n",
    "                                             ccp_alpha=0.0,\n",
    "                                             criterion='friedman_mse',\n",
    "                                             init=None,\n",
    "                                             learning_rate=0.1,\n",
    "                                             loss='squared_error',\n",
    "                                             max_depth=3,\n",
    "                                             max_features=None,\n",
    "                                             max_leaf_nodes=None,\n",
    "                                             min_impurity_decrease=0.0,\n",
    "                                             min_samples_leaf=1,\n",
    "                                             min_samples_split=2,\n",
    "                                             min_weight_fraction_leaf=0.0,\n",
    "                                             n_iter_no_change=None,\n",
    "                                             random_state=None,\n",
    "                                             subsample=1.0,\n",
    "                                             tol=0.0001,\n",
    "                                             validation_fraction=0.1,\n",
    "                                             verbose=0,\n",
    "                                             warm_start=False))\n",
    "])"
   ]
  },
  {
   "cell_type": "code",
   "execution_count": 147,
   "id": "04e3c693",
   "metadata": {},
   "outputs": [
    {
     "data": {
      "text/html": [
       "<style>#sk-container-id-10 {color: black;}#sk-container-id-10 pre{padding: 0;}#sk-container-id-10 div.sk-toggleable {background-color: white;}#sk-container-id-10 label.sk-toggleable__label {cursor: pointer;display: block;width: 100%;margin-bottom: 0;padding: 0.3em;box-sizing: border-box;text-align: center;}#sk-container-id-10 label.sk-toggleable__label-arrow:before {content: \"▸\";float: left;margin-right: 0.25em;color: #696969;}#sk-container-id-10 label.sk-toggleable__label-arrow:hover:before {color: black;}#sk-container-id-10 div.sk-estimator:hover label.sk-toggleable__label-arrow:before {color: black;}#sk-container-id-10 div.sk-toggleable__content {max-height: 0;max-width: 0;overflow: hidden;text-align: left;background-color: #f0f8ff;}#sk-container-id-10 div.sk-toggleable__content pre {margin: 0.2em;color: black;border-radius: 0.25em;background-color: #f0f8ff;}#sk-container-id-10 input.sk-toggleable__control:checked~div.sk-toggleable__content {max-height: 200px;max-width: 100%;overflow: auto;}#sk-container-id-10 input.sk-toggleable__control:checked~label.sk-toggleable__label-arrow:before {content: \"▾\";}#sk-container-id-10 div.sk-estimator input.sk-toggleable__control:checked~label.sk-toggleable__label {background-color: #d4ebff;}#sk-container-id-10 div.sk-label input.sk-toggleable__control:checked~label.sk-toggleable__label {background-color: #d4ebff;}#sk-container-id-10 input.sk-hidden--visually {border: 0;clip: rect(1px 1px 1px 1px);clip: rect(1px, 1px, 1px, 1px);height: 1px;margin: -1px;overflow: hidden;padding: 0;position: absolute;width: 1px;}#sk-container-id-10 div.sk-estimator {font-family: monospace;background-color: #f0f8ff;border: 1px dotted black;border-radius: 0.25em;box-sizing: border-box;margin-bottom: 0.5em;}#sk-container-id-10 div.sk-estimator:hover {background-color: #d4ebff;}#sk-container-id-10 div.sk-parallel-item::after {content: \"\";width: 100%;border-bottom: 1px solid gray;flex-grow: 1;}#sk-container-id-10 div.sk-label:hover label.sk-toggleable__label {background-color: #d4ebff;}#sk-container-id-10 div.sk-serial::before {content: \"\";position: absolute;border-left: 1px solid gray;box-sizing: border-box;top: 0;bottom: 0;left: 50%;z-index: 0;}#sk-container-id-10 div.sk-serial {display: flex;flex-direction: column;align-items: center;background-color: white;padding-right: 0.2em;padding-left: 0.2em;position: relative;}#sk-container-id-10 div.sk-item {position: relative;z-index: 1;}#sk-container-id-10 div.sk-parallel {display: flex;align-items: stretch;justify-content: center;background-color: white;position: relative;}#sk-container-id-10 div.sk-item::before, #sk-container-id-10 div.sk-parallel-item::before {content: \"\";position: absolute;border-left: 1px solid gray;box-sizing: border-box;top: 0;bottom: 0;left: 50%;z-index: -1;}#sk-container-id-10 div.sk-parallel-item {display: flex;flex-direction: column;z-index: 1;position: relative;background-color: white;}#sk-container-id-10 div.sk-parallel-item:first-child::after {align-self: flex-end;width: 50%;}#sk-container-id-10 div.sk-parallel-item:last-child::after {align-self: flex-start;width: 50%;}#sk-container-id-10 div.sk-parallel-item:only-child::after {width: 0;}#sk-container-id-10 div.sk-dashed-wrapped {border: 1px dashed gray;margin: 0 0.4em 0.5em 0.4em;box-sizing: border-box;padding-bottom: 0.4em;background-color: white;}#sk-container-id-10 div.sk-label label {font-family: monospace;font-weight: bold;display: inline-block;line-height: 1.2em;}#sk-container-id-10 div.sk-label-container {text-align: center;}#sk-container-id-10 div.sk-container {/* jupyter's `normalize.less` sets `[hidden] { display: none; }` but bootstrap.min.css set `[hidden] { display: none !important; }` so we also need the `!important` here to be able to override the default hidden behavior on the sphinx rendered scikit-learn.org. See: https://github.com/scikit-learn/scikit-learn/issues/21755 */display: inline-block !important;position: relative;}#sk-container-id-10 div.sk-text-repr-fallback {display: none;}</style><div id=\"sk-container-id-10\" class=\"sk-top-container\"><div class=\"sk-text-repr-fallback\"><pre>Pipeline(steps=[(&#x27;imputer&#x27;, SimpleImputer()),\n",
       "                (&#x27;core_model&#x27;, GradientBoostingRegressor(n_estimators=220))])</pre><b>In a Jupyter environment, please rerun this cell to show the HTML representation or trust the notebook. <br />On GitHub, the HTML representation is unable to render, please try loading this page with nbviewer.org.</b></div><div class=\"sk-container\" hidden><div class=\"sk-item sk-dashed-wrapped\"><div class=\"sk-label-container\"><div class=\"sk-label sk-toggleable\"><input class=\"sk-toggleable__control sk-hidden--visually\" id=\"sk-estimator-id-33\" type=\"checkbox\" ><label for=\"sk-estimator-id-33\" class=\"sk-toggleable__label sk-toggleable__label-arrow\">Pipeline</label><div class=\"sk-toggleable__content\"><pre>Pipeline(steps=[(&#x27;imputer&#x27;, SimpleImputer()),\n",
       "                (&#x27;core_model&#x27;, GradientBoostingRegressor(n_estimators=220))])</pre></div></div></div><div class=\"sk-serial\"><div class=\"sk-item\"><div class=\"sk-estimator sk-toggleable\"><input class=\"sk-toggleable__control sk-hidden--visually\" id=\"sk-estimator-id-34\" type=\"checkbox\" ><label for=\"sk-estimator-id-34\" class=\"sk-toggleable__label sk-toggleable__label-arrow\">SimpleImputer</label><div class=\"sk-toggleable__content\"><pre>SimpleImputer()</pre></div></div></div><div class=\"sk-item\"><div class=\"sk-estimator sk-toggleable\"><input class=\"sk-toggleable__control sk-hidden--visually\" id=\"sk-estimator-id-35\" type=\"checkbox\" ><label for=\"sk-estimator-id-35\" class=\"sk-toggleable__label sk-toggleable__label-arrow\">GradientBoostingRegressor</label><div class=\"sk-toggleable__content\"><pre>GradientBoostingRegressor(n_estimators=220)</pre></div></div></div></div></div></div></div>"
      ],
      "text/plain": [
       "Pipeline(steps=[('imputer', SimpleImputer()),\n",
       "                ('core_model', GradientBoostingRegressor(n_estimators=220))])"
      ]
     },
     "execution_count": 147,
     "metadata": {},
     "output_type": "execute_result"
    }
   ],
   "source": [
    "estimator.fit(X_train,y_train)"
   ]
  },
  {
   "cell_type": "code",
   "execution_count": 148,
   "id": "45e1d10d",
   "metadata": {},
   "outputs": [
    {
     "data": {
      "text/plain": [
       "0.729831157247758"
      ]
     },
     "execution_count": 148,
     "metadata": {},
     "output_type": "execute_result"
    }
   ],
   "source": [
    "estimator.score(X_test, y_test)"
   ]
  },
  {
   "cell_type": "markdown",
   "id": "a507f828",
   "metadata": {},
   "source": [
    "## Saving model"
   ]
  },
  {
   "cell_type": "code",
   "execution_count": 149,
   "id": "de4b0573",
   "metadata": {},
   "outputs": [],
   "source": [
    "from joblib import dump"
   ]
  },
  {
   "cell_type": "code",
   "execution_count": 150,
   "id": "88ca4771",
   "metadata": {},
   "outputs": [
    {
     "data": {
      "text/plain": [
       "['../model/model.pkl']"
      ]
     },
     "execution_count": 150,
     "metadata": {},
     "output_type": "execute_result"
    }
   ],
   "source": [
    "dump(estimator, '../model/model.pkl')"
   ]
  },
  {
   "cell_type": "code",
   "execution_count": 151,
   "id": "c1a1dbec",
   "metadata": {},
   "outputs": [
    {
     "data": {
      "text/plain": [
       "Index(['opening_gross', 'screens', 'production_budget', 'title_year',\n",
       "       'aspect_ratio', 'duration', 'cast_total_facebook_likes', 'budget',\n",
       "       'imdb_score'],\n",
       "      dtype='object')"
      ]
     },
     "execution_count": 151,
     "metadata": {},
     "output_type": "execute_result"
    }
   ],
   "source": [
    "X_train.columns"
   ]
  }
 ],
 "metadata": {
  "kernelspec": {
   "display_name": "Python 3 (ipykernel)",
   "language": "python",
   "name": "python3"
  },
  "language_info": {
   "codemirror_mode": {
    "name": "ipython",
    "version": 3
   },
   "file_extension": ".py",
   "mimetype": "text/x-python",
   "name": "python",
   "nbconvert_exporter": "python",
   "pygments_lexer": "ipython3",
   "version": "3.10.12"
  }
 },
 "nbformat": 4,
 "nbformat_minor": 5
}
